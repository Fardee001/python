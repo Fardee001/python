{
  "nbformat": 4,
  "nbformat_minor": 0,
  "metadata": {
    "colab": {
      "name": "Copy of Untitled2.ipynb",
      "provenance": [],
      "authorship_tag": "ABX9TyNdGMzidfOuc9bcALSTvirK",
      "include_colab_link": true
    },
    "kernelspec": {
      "name": "python3",
      "display_name": "Python 3"
    }
  },
  "cells": [
    {
      "cell_type": "markdown",
      "metadata": {
        "id": "view-in-github",
        "colab_type": "text"
      },
      "source": [
        "<a href=\"https://colab.research.google.com/github/Fardee001/python/blob/master/Copy_of_Untitled2.ipynb\" target=\"_parent\"><img src=\"https://colab.research.google.com/assets/colab-badge.svg\" alt=\"Open In Colab\"/></a>"
      ]
    },
    {
      "cell_type": "code",
      "metadata": {
        "id": "jLRW6eLr_IYL",
        "outputId": "d04e7ad0-75d7-4a4e-b530-99d8bde46b93",
        "colab": {
          "base_uri": "https://localhost:8080/",
          "height": 34
        }
      },
      "source": [
        "#program to get the largest number from the list\n",
        "list=[8,4,40,5,25]\n",
        "large=list[0]\n",
        "for i in list:\n",
        "  if i>large:\n",
        "    large=i\n",
        "print(\"Largest number is:\",large)"
      ],
      "execution_count": null,
      "outputs": [
        {
          "output_type": "stream",
          "text": [
            "Largest number is: 40\n"
          ],
          "name": "stdout"
        }
      ]
    },
    {
      "cell_type": "code",
      "metadata": {
        "id": "f8fzqAhQ_esr",
        "outputId": "95795a13-0252-4fbd-cbb4-590e63d642f2",
        "colab": {
          "base_uri": "https://localhost:8080/",
          "height": 67
        }
      },
      "source": [
        "#Program to search an element from a list\n",
        "list=[9,45,30,8,44,24]\n",
        "print(list)\n",
        "num=int(input(\"Enter a number to search: \"))\n",
        "for i in list:\n",
        "  if i==num:\n",
        "    print(\"Element found\")\n",
        "    break\n",
        "else:\n",
        "  print(\"Element is not found\")"
      ],
      "execution_count": null,
      "outputs": [
        {
          "output_type": "stream",
          "text": [
            "[9, 45, 30, 8, 44, 24]\n",
            "Enter a number to search: 24\n",
            "Element found\n"
          ],
          "name": "stdout"
        }
      ]
    },
    {
      "cell_type": "code",
      "metadata": {
        "id": "m6M2VA7p_hmF",
        "outputId": "e91c0ba8-a7df-4af2-ea55-70de07bd9025",
        "colab": {
          "base_uri": "https://localhost:8080/",
          "height": 34
        }
      },
      "source": [
        "#program to sum all the items in list\n",
        "list=[1,2,3,9,19]\n",
        "sum=0\n",
        "for i in list:\n",
        "  sum=sum+i\n",
        "print(\"sum is \",sum)"
      ],
      "execution_count": null,
      "outputs": [
        {
          "output_type": "stream",
          "text": [
            "sum is  34\n"
          ],
          "name": "stdout"
        }
      ]
    },
    {
      "cell_type": "code",
      "metadata": {
        "id": "3Q_AZpWa_kr0",
        "outputId": "3fe43a1d-096e-4869-e7a8-35999a44e319",
        "colab": {
          "base_uri": "https://localhost:8080/",
          "height": 34
        }
      },
      "source": [
        "#program to remove duplicates from a list\n",
        "def Remove(duplicate): \n",
        "\tfinal_list = [] \n",
        "\tfor num in duplicate: \n",
        "\t\tif num not in final_list: \n",
        "\t\t\tfinal_list.append(num) \n",
        "\treturn final_list \n",
        "\t\n",
        "duplicate = [10,20,30,20,10,50,60,40,80,50,40]\n",
        "print(Remove(duplicate))"
      ],
      "execution_count": null,
      "outputs": [
        {
          "output_type": "stream",
          "text": [
            "[10, 20, 30, 50, 60, 40, 80]\n"
          ],
          "name": "stdout"
        }
      ]
    },
    {
      "cell_type": "code",
      "metadata": {
        "id": "mQ4myB4E_n40",
        "outputId": "cc1b9e1a-73e6-4b39-f619-637cdf6685da",
        "colab": {
          "base_uri": "https://localhost:8080/",
          "height": 50
        }
      },
      "source": [
        "#function that takes two lists and returns True if they have atleast one common element\n",
        "def list(list1,list2):\n",
        "  for i in list1:\n",
        "    for j in list2:\n",
        "      if i==j:\n",
        "        result= True\n",
        "        return result\n",
        "print(list([1,2,3,4,5],[6,7,8,9,66,3]))\n",
        "print(list([1,2,3,4],[2,4,1,3]))"
      ],
      "execution_count": null,
      "outputs": [
        {
          "output_type": "stream",
          "text": [
            "True\n",
            "True\n"
          ],
          "name": "stdout"
        }
      ]
    },
    {
      "cell_type": "code",
      "metadata": {
        "id": "_dYWNLMR_qcV",
        "outputId": "73397c4c-2f74-469e-d5e3-7ce21011a4dc",
        "colab": {
          "base_uri": "https://localhost:8080/",
          "height": 34
        }
      },
      "source": [
        "#Program to append a list to the second list\n",
        "list1=[1,2,3,4,5]\n",
        "list2=['pink','green','red']\n",
        "list=list1+list2\n",
        "print(list)"
      ],
      "execution_count": null,
      "outputs": [
        {
          "output_type": "stream",
          "text": [
            "[1, 2, 3, 4, 5, 'pink', 'green', 'red']\n"
          ],
          "name": "stdout"
        }
      ]
    },
    {
      "cell_type": "code",
      "metadata": {
        "id": "SQaA7VJr_uQd",
        "outputId": "5f69b39f-76af-4623-ab1d-d54b4cbca44d",
        "colab": {
          "base_uri": "https://localhost:8080/",
          "height": 50
        }
      },
      "source": [
        "#program to  check if a number is composite or not\n",
        "n=int(input(\"enter a number:\"))\n",
        "fact=0\n",
        "for i in range(1,n):\n",
        "  if n%i==0:\n",
        "    fact=i\n",
        "if fact>1:\n",
        "  print(\"composite number\")\n",
        "elif n==1:\n",
        "  print(\"neither composite nor prime\")\n",
        "else:\n",
        "  print(\"prime number\")"
      ],
      "execution_count": null,
      "outputs": [
        {
          "output_type": "stream",
          "text": [
            "enter a number:4\n",
            "composite number\n"
          ],
          "name": "stdout"
        }
      ]
    },
    {
      "cell_type": "code",
      "metadata": {
        "id": "DNVPJFf9_xZT",
        "outputId": "d7a40a54-e047-4f89-8c58-daa4e32df2ee",
        "colab": {
          "base_uri": "https://localhost:8080/",
          "height": 34
        }
      },
      "source": [
        "#Program to add 2 matrices using list\n",
        "X=[[2,4,6], [4,8,10], [8,88,9]]\n",
        "Y=[[7,0,4], [2,2,1], [1,1,1]]\n",
        "result=[[0,0,0], [0,0,0], [0,0,0]]\n",
        "for i in range(len(X)):\n",
        "  for j in range(len(X[0])):\n",
        "    result[i][j]=X[i][j]+ Y[i][j]\n",
        "print(\"Sum of matrix\",result)"
      ],
      "execution_count": null,
      "outputs": [
        {
          "output_type": "stream",
          "text": [
            "Sum of matrix [[9, 4, 10], [6, 10, 11], [9, 89, 10]]\n"
          ],
          "name": "stdout"
        }
      ]
    },
    {
      "cell_type": "code",
      "metadata": {
        "id": "TFbQesla_zp5",
        "outputId": "3245114c-eda3-445b-d421-30ca32c3f0e5",
        "colab": {
          "base_uri": "https://localhost:8080/",
          "height": 50
        }
      },
      "source": [
        "#Program to check if string is palindrome or not\n",
        "def isPalindrome(string):\n",
        "  rev=''.join(reversed(string))\n",
        "  if string==rev:\n",
        "    return True\n",
        "  return False\n",
        "string=input(\"Enter a word: \")\n",
        "ans=isPalindrome(string)\n",
        "if (ans):\n",
        "  print(\"Palindrome\")\n",
        "else:\n",
        "  print(\"Not palindrome\")"
      ],
      "execution_count": null,
      "outputs": [
        {
          "output_type": "stream",
          "text": [
            "Enter a word: name\n",
            "Not palindrome\n"
          ],
          "name": "stdout"
        }
      ]
    },
    {
      "cell_type": "code",
      "metadata": {
        "id": "3O_onnAi_25J",
        "outputId": "647976d5-9ca2-4408-ab7b-f645b235e8d6",
        "colab": {
          "base_uri": "https://localhost:8080/",
          "height": 218
        }
      },
      "source": [
        "# Python Program to Print Multiplication Table of a Number\n",
        "\n",
        "num = int(input(\"Enter the number: \"))\n",
        "\n",
        "print(\"Multiplication Table of\", num)\n",
        "for i in range(1, 11):\n",
        "   print(num,\"X\",i,\"=\",num * i)"
      ],
      "execution_count": null,
      "outputs": [
        {
          "output_type": "stream",
          "text": [
            "Enter the number: 12\n",
            "Multiplication Table of 12\n",
            "12 X 1 = 12\n",
            "12 X 2 = 24\n",
            "12 X 3 = 36\n",
            "12 X 4 = 48\n",
            "12 X 5 = 60\n",
            "12 X 6 = 72\n",
            "12 X 7 = 84\n",
            "12 X 8 = 96\n",
            "12 X 9 = 108\n",
            "12 X 10 = 120\n"
          ],
          "name": "stdout"
        }
      ]
    }
  ]
}