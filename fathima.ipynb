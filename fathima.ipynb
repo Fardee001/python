{
  "nbformat": 4,
  "nbformat_minor": 0,
  "metadata": {
    "colab": {
      "name": "fathima.ipynb",
      "provenance": [],
      "authorship_tag": "ABX9TyMdu7soauqk+0fBpcCvzgf2",
      "include_colab_link": true
    },
    "kernelspec": {
      "name": "python3",
      "display_name": "Python 3"
    }
  },
  "cells": [
    {
      "cell_type": "markdown",
      "metadata": {
        "id": "view-in-github",
        "colab_type": "text"
      },
      "source": [
        "<a href=\"https://colab.research.google.com/github/Fardee001/python/blob/master/fathima.ipynb\" target=\"_parent\"><img src=\"https://colab.research.google.com/assets/colab-badge.svg\" alt=\"Open In Colab\"/></a>"
      ]
    },
    {
      "cell_type": "markdown",
      "metadata": {
        "id": "4hv82ecHPqZN"
      },
      "source": [
        "2)"
      ]
    },
    {
      "cell_type": "code",
      "metadata": {
        "id": "w9azt8cDPwCi"
      },
      "source": [
        "from math import pi\n",
        "rad=float(int(input(\"Enter radius of circle :\")))\n",
        "area=pi*rad*rad\n",
        "print(\"Area of circle is\",area,\"sq.units\")"
      ],
      "execution_count": null,
      "outputs": []
    },
    {
      "cell_type": "markdown",
      "metadata": {
        "id": "nvkZDLHcPVve"
      },
      "source": [
        "4)"
      ]
    },
    {
      "cell_type": "code",
      "metadata": {
        "id": "XW8WQ6ThPWJR"
      },
      "source": [
        "def common_data(list1, list2): \n",
        "    result = False\n",
        "  \n",
        "    for i in list1: \n",
        "  \n",
        "        for j in list2: \n",
        "             if i == j: \n",
        "                result = True\n",
        "                return result  \n",
        "                  \n",
        "    return result \n",
        "      \n",
        "\n",
        "list1 = [1, 2, 3, 4, 5] \n",
        "list2= [5, 6, 7, 8, 9] \n",
        "print(common_data(list1, list2)) \n",
        "  \n",
        "list1 = [1, 2, 3, 4, 5] \n",
        "list2 = [6, 7, 8, 9] \n",
        "print(common_data(list1, list2)) "
      ],
      "execution_count": null,
      "outputs": []
    },
    {
      "cell_type": "markdown",
      "metadata": {
        "id": "Rjf82HfbPXK6"
      },
      "source": [
        "3)"
      ]
    },
    {
      "cell_type": "code",
      "metadata": {
        "id": "quRGtUUNPbok"
      },
      "source": [
        "#initialising string\n",
        "int_str=\"ababababa\"\n",
        "sub_str='aba'\n",
        "#count of substring using\n",
        "res=sum(1 for i in range(len(in if int_str.startswith(\"ab\"))))\n",
        "print(\"number of substring\",res)\n"
      ],
      "execution_count": null,
      "outputs": []
    },
    {
      "cell_type": "markdown",
      "metadata": {
        "id": "BP4iGKM0P-BN"
      },
      "source": [
        "5)"
      ]
    },
    {
      "cell_type": "code",
      "metadata": {
        "id": "MyO-_bPoPfDJ"
      },
      "source": [
        "num=int(input(\"Enter a number:\"))\n",
        "\n",
        "if num>1:\n",
        "\n",
        "  for i in range(2,num):\n",
        "    if (num%i)==0:\n",
        "      print(num,\"is not a prime number\")\n",
        "      print(i,\"times\",num//i,\"is\",num)\n",
        "      break\n",
        "    else:\n",
        "      print(num,\"is a prime number\")\n",
        "    \n",
        "else:\n",
        "      print(num,\"is not a prime number\")"
      ],
      "execution_count": null,
      "outputs": []
    },
    {
      "cell_type": "markdown",
      "metadata": {
        "id": "5aqjH_jRPi7e"
      },
      "source": [
        "6b)"
      ]
    },
    {
      "cell_type": "code",
      "metadata": {
        "id": "lzIcKaXYPjMt"
      },
      "source": [
        "def search(list,n):\n",
        "  for i in range (len(list)):\n",
        "    if list[i]==n:\n",
        "      return True\n",
        "  return False\n",
        "\n",
        "list=['book','pen','name',1,2]\n",
        "n='pen'\n",
        "  \n",
        "if search(list,n): \n",
        "    print(\"Found\") \n",
        "  \n",
        "else: \n",
        "    print(\"Not Found\") \n",
        " "
      ],
      "execution_count": null,
      "outputs": []
    },
    {
      "cell_type": "markdown",
      "metadata": {
        "id": "pwURnkvaPoGU"
      },
      "source": [
        "7)"
      ]
    },
    {
      "cell_type": "code",
      "metadata": {
        "id": "zw54BdREPoTP"
      },
      "source": [
        "string=input(\"enter a string:\")\n",
        "revestring=string[::-1]\n",
        "print(\"reversed string is\",revestring)\n",
        "if (revestring==string):\n",
        "  print(\"The string is Palindrome\")\n",
        "else:\n",
        "  print(\"This is not a palindrome string\") "
      ],
      "execution_count": null,
      "outputs": []
    }
  ]
}